{
 "cells": [
  {
   "cell_type": "code",
   "execution_count": 32,
   "id": "4d4718e3",
   "metadata": {},
   "outputs": [],
   "source": [
    "import traceback\n",
    "from tqdm import tqdm\n",
    "import time\n",
    "import os.path\n",
    "import pandas as pd\n",
    "import multiprocessing\n",
    "import math\n",
    "import psycopg2\n",
    "from bs4 import BeautifulSoup\n",
    "import requests\n",
    "HEADERS = ({'User-Agent':\n",
    "        'Mozilla/5.0 (X11; Linux x86_64) AppleWebKit/537.36 \\\n",
    "        (KHTML, like Gecko) Chrome/44.0.2403.157 Safari/537.36',\\\n",
    "        'Accept-Language': 'en-US, en;q=0.5'})\n",
    "\n",
    "URL = 'https://www.surf-forecast.com/breaks/Twenty-First-Street/forecasts/latest/six_day'\n",
    "webpage = requests.get(URL, headers=HEADERS)\n",
    "soup = BeautifulSoup(webpage.content, \"html.parser\")\n",
    "\n"
   ]
  },
  {
   "cell_type": "code",
   "execution_count": 36,
   "id": "2dc92351",
   "metadata": {},
   "outputs": [
    {
     "data": {
      "text/plain": [
       "'USA'"
      ]
     },
     "execution_count": 36,
     "metadata": {},
     "output_type": "execute_result"
    }
   ],
   "source": [
    "country = soup.find_all('div', {\"id\": \"breadcrumbs\"})[0]\n",
    "country.find_all('a')[-1].text"
   ]
  },
  {
   "cell_type": "code",
   "execution_count": null,
   "id": "73dd9ffa",
   "metadata": {},
   "outputs": [],
   "source": []
  }
 ],
 "metadata": {
  "kernelspec": {
   "display_name": "env",
   "language": "python",
   "name": "env"
  },
  "language_info": {
   "codemirror_mode": {
    "name": "ipython",
    "version": 3
   },
   "file_extension": ".py",
   "mimetype": "text/x-python",
   "name": "python",
   "nbconvert_exporter": "python",
   "pygments_lexer": "ipython3",
   "version": "3.9.6"
  }
 },
 "nbformat": 4,
 "nbformat_minor": 5
}
