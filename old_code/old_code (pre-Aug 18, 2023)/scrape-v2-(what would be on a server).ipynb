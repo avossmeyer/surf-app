{
 "cells": [
  {
   "cell_type": "code",
   "execution_count": 1,
   "id": "132f711f",
   "metadata": {},
   "outputs": [],
   "source": [
    "# from selenium.webdriver.support.ui import WebDriverWait\n",
    "# from selenium.common.exceptions import TimeoutException\n",
    "# xpath = '/html/body/div[2]/div/div[2]/div[2]/div[2]/div[3]/div[5]/div[2]/div/' +\\\n",
    "#     'div[3]/div/table/tbody/tr[3]/td[6]/div/div'\n",
    "# driver.get(\"https://www.surf-forecast.com/breaks/Trial-Harbour/forecasts/latest/six_day\")\n",
    "\n",
    "# element = driver.find_element(By.XPATH, sel_class)"
   ]
  },
  {
   "cell_type": "code",
   "execution_count": 13,
   "id": "767d8a3f",
   "metadata": {},
   "outputs": [],
   "source": [
    "import pandas as pd\n",
    "from selenium import webdriver\n",
    "from selenium.webdriver.common.by import By"
   ]
  },
  {
   "cell_type": "code",
   "execution_count": 65,
   "id": "e3984a77",
   "metadata": {},
   "outputs": [],
   "source": [
    "driver = webdriver.Chrome()\n",
    "driver.get(\"https://www.surf-forecast.com/breaks/Trial-Harbour/forecasts/latest\")\n",
    "\n",
    "rating = driver.find_element(By.CLASS_NAME, 'forecast-table-rating')\n",
    "time = driver.find_element(By.CLASS_NAME, 'forecast-table-time')\n",
    "table = driver.find_element(By.CLASS_NAME, 'forecast-table__basic')\n"
   ]
  },
  {
   "cell_type": "code",
   "execution_count": 123,
   "id": "ebf36f8d",
   "metadata": {},
   "outputs": [],
   "source": [
    "df.to_csv('~/Desktop/break_urls.csv')"
   ]
  },
  {
   "cell_type": "code",
   "execution_count": 154,
   "id": "b2d0d6ad",
   "metadata": {},
   "outputs": [
    {
     "data": {
      "text/html": [
       "<div>\n",
       "<style scoped>\n",
       "    .dataframe tbody tr th:only-of-type {\n",
       "        vertical-align: middle;\n",
       "    }\n",
       "\n",
       "    .dataframe tbody tr th {\n",
       "        vertical-align: top;\n",
       "    }\n",
       "\n",
       "    .dataframe thead th {\n",
       "        text-align: right;\n",
       "    }\n",
       "</style>\n",
       "<table border=\"1\" class=\"dataframe\">\n",
       "  <thead>\n",
       "    <tr style=\"text-align: right;\">\n",
       "      <th></th>\n",
       "      <th>break_name</th>\n",
       "      <th>url</th>\n",
       "    </tr>\n",
       "  </thead>\n",
       "  <tbody>\n",
       "    <tr>\n",
       "      <th>0</th>\n",
       "      <td>https://www.surf-forecast.com/breaks/Tenth-Str...</td>\n",
       "      <td>10th Street (Avalon)</td>\n",
       "    </tr>\n",
       "    <tr>\n",
       "      <th>1</th>\n",
       "      <td>https://www.surf-forecast.com/breaks/Agate-and...</td>\n",
       "      <td>Agate and Pearl Street</td>\n",
       "    </tr>\n",
       "    <tr>\n",
       "      <th>2</th>\n",
       "      <td>https://www.surf-forecast.com/breaks/Anakena</td>\n",
       "      <td>Anakena</td>\n",
       "    </tr>\n",
       "    <tr>\n",
       "      <th>3</th>\n",
       "      <td>https://www.surf-forecast.com/breaks/Onehundre...</td>\n",
       "      <td>120th Street</td>\n",
       "    </tr>\n",
       "    <tr>\n",
       "      <th>4</th>\n",
       "      <td>https://www.surf-forecast.com/breaks/Agate-Beach</td>\n",
       "      <td>Agate Beach</td>\n",
       "    </tr>\n",
       "    <tr>\n",
       "      <th>...</th>\n",
       "      <td>...</td>\n",
       "      <td>...</td>\n",
       "    </tr>\n",
       "    <tr>\n",
       "      <th>8095</th>\n",
       "      <td>https://www.surf-forecast.com/breaks/Anaehooma...</td>\n",
       "      <td>Anaehoomalu Bay_A-Bay</td>\n",
       "    </tr>\n",
       "    <tr>\n",
       "      <th>8096</th>\n",
       "      <td>https://www.surf-forecast.com/breaks/Aracaju</td>\n",
       "      <td>Aracaju</td>\n",
       "    </tr>\n",
       "    <tr>\n",
       "      <th>8097</th>\n",
       "      <td>https://www.surf-forecast.com/breaks/Aganoa-Beach</td>\n",
       "      <td>Aganoa Beach</td>\n",
       "    </tr>\n",
       "    <tr>\n",
       "      <th>8098</th>\n",
       "      <td>https://www.surf-forecast.com/breaks/Anael</td>\n",
       "      <td>Anael</td>\n",
       "    </tr>\n",
       "    <tr>\n",
       "      <th>8099</th>\n",
       "      <td>https://www.surf-forecast.com/breaks/Aragunnu-...</td>\n",
       "      <td>Aragunnu Beach</td>\n",
       "    </tr>\n",
       "  </tbody>\n",
       "</table>\n",
       "<p>8100 rows × 2 columns</p>\n",
       "</div>"
      ],
      "text/plain": [
       "                                             break_name   \n",
       "0     https://www.surf-forecast.com/breaks/Tenth-Str...  \\\n",
       "1     https://www.surf-forecast.com/breaks/Agate-and...   \n",
       "2          https://www.surf-forecast.com/breaks/Anakena   \n",
       "3     https://www.surf-forecast.com/breaks/Onehundre...   \n",
       "4      https://www.surf-forecast.com/breaks/Agate-Beach   \n",
       "...                                                 ...   \n",
       "8095  https://www.surf-forecast.com/breaks/Anaehooma...   \n",
       "8096       https://www.surf-forecast.com/breaks/Aracaju   \n",
       "8097  https://www.surf-forecast.com/breaks/Aganoa-Beach   \n",
       "8098         https://www.surf-forecast.com/breaks/Anael   \n",
       "8099  https://www.surf-forecast.com/breaks/Aragunnu-...   \n",
       "\n",
       "                         url  \n",
       "0       10th Street (Avalon)  \n",
       "1     Agate and Pearl Street  \n",
       "2                    Anakena  \n",
       "3               120th Street  \n",
       "4                Agate Beach  \n",
       "...                      ...  \n",
       "8095   Anaehoomalu Bay_A-Bay  \n",
       "8096                 Aracaju  \n",
       "8097            Aganoa Beach  \n",
       "8098                   Anael  \n",
       "8099          Aragunnu Beach  \n",
       "\n",
       "[8100 rows x 2 columns]"
      ]
     },
     "execution_count": 154,
     "metadata": {},
     "output_type": "execute_result"
    }
   ],
   "source": [
    "pages_df"
   ]
  },
  {
   "cell_type": "code",
   "execution_count": 152,
   "id": "0786a945",
   "metadata": {},
   "outputs": [
    {
     "ename": "WebDriverException",
     "evalue": "Message: disconnected: not connected to DevTools\n  (failed to check if window was closed: disconnected: not connected to DevTools)\n  (Session info: chrome=115.0.5790.170)\nStacktrace:\n0   chromedriver                        0x0000000104ae6a6c chromedriver + 4303468\n1   chromedriver                        0x0000000104adf198 chromedriver + 4272536\n2   chromedriver                        0x0000000104713594 chromedriver + 292244\n3   chromedriver                        0x00000001046f9948 chromedriver + 186696\n4   chromedriver                        0x00000001046f9850 chromedriver + 186448\n5   chromedriver                        0x0000000104788ed4 chromedriver + 773844\n6   chromedriver                        0x0000000104744b40 chromedriver + 494400\n7   chromedriver                        0x0000000104745988 chromedriver + 498056\n8   chromedriver                        0x0000000104aa7924 chromedriver + 4045092\n9   chromedriver                        0x0000000104aabe68 chromedriver + 4062824\n10  chromedriver                        0x0000000104ab2088 chromedriver + 4087944\n11  chromedriver                        0x0000000104aac96c chromedriver + 4065644\n12  chromedriver                        0x0000000104a84e64 chromedriver + 3903076\n13  chromedriver                        0x0000000104ac855c chromedriver + 4179292\n14  chromedriver                        0x0000000104ac86b4 chromedriver + 4179636\n15  chromedriver                        0x0000000104ad8978 chromedriver + 4245880\n16  libsystem_pthread.dylib             0x000000019c28906c _pthread_start + 148\n17  libsystem_pthread.dylib             0x000000019c283e2c thread_start + 8\n",
     "output_type": "error",
     "traceback": [
      "\u001b[0;31m---------------------------------------------------------------------------\u001b[0m",
      "\u001b[0;31mWebDriverException\u001b[0m                        Traceback (most recent call last)",
      "Cell \u001b[0;32mIn[152], line 43\u001b[0m\n\u001b[1;32m     37\u001b[0m times \u001b[38;5;241m=\u001b[39m driver3\u001b[38;5;241m.\u001b[39mfind_elements(By\u001b[38;5;241m.\u001b[39mCLASS_NAME, \u001b[38;5;124m'\u001b[39m\u001b[38;5;124mforecast-table-time__cell\u001b[39m\u001b[38;5;124m'\u001b[39m)\n\u001b[1;32m     39\u001b[0m \u001b[38;5;28;01mfor\u001b[39;00m time, rating \u001b[38;5;129;01min\u001b[39;00m \u001b[38;5;28mzip\u001b[39m(times, ratings):\n\u001b[1;32m     40\u001b[0m     df \u001b[38;5;241m=\u001b[39m pd\u001b[38;5;241m.\u001b[39mconcat([df, pd\u001b[38;5;241m.\u001b[39mDataFrame({\n\u001b[1;32m     41\u001b[0m         \u001b[38;5;124m'\u001b[39m\u001b[38;5;124mbreak_name\u001b[39m\u001b[38;5;124m'\u001b[39m: [break_name]\n\u001b[1;32m     42\u001b[0m         , \u001b[38;5;124m'\u001b[39m\u001b[38;5;124mbreak_url\u001b[39m\u001b[38;5;124m'\u001b[39m: [break_url]\n\u001b[0;32m---> 43\u001b[0m         , \u001b[38;5;124m'\u001b[39m\u001b[38;5;124mtime\u001b[39m\u001b[38;5;124m'\u001b[39m: [\u001b[43mtime\u001b[49m\u001b[38;5;241;43m.\u001b[39;49m\u001b[43mtext\u001b[49m]\n\u001b[1;32m     44\u001b[0m         , \u001b[38;5;124m'\u001b[39m\u001b[38;5;124mrating\u001b[39m\u001b[38;5;124m'\u001b[39m: [rating\u001b[38;5;241m.\u001b[39mtext]\n\u001b[1;32m     45\u001b[0m     })], ignore_index\u001b[38;5;241m=\u001b[39m\u001b[38;5;28;01mTrue\u001b[39;00m)\n",
      "File \u001b[0;32m~/Library/Python/3.9/lib/python/site-packages/selenium/webdriver/remote/webelement.py:90\u001b[0m, in \u001b[0;36mWebElement.text\u001b[0;34m(self)\u001b[0m\n\u001b[1;32m     87\u001b[0m \u001b[38;5;129m@property\u001b[39m\n\u001b[1;32m     88\u001b[0m \u001b[38;5;28;01mdef\u001b[39;00m \u001b[38;5;21mtext\u001b[39m(\u001b[38;5;28mself\u001b[39m) \u001b[38;5;241m-\u001b[39m\u001b[38;5;241m>\u001b[39m \u001b[38;5;28mstr\u001b[39m:\n\u001b[1;32m     89\u001b[0m \u001b[38;5;250m    \u001b[39m\u001b[38;5;124;03m\"\"\"The text of the element.\"\"\"\u001b[39;00m\n\u001b[0;32m---> 90\u001b[0m     \u001b[38;5;28;01mreturn\u001b[39;00m \u001b[38;5;28;43mself\u001b[39;49m\u001b[38;5;241;43m.\u001b[39;49m\u001b[43m_execute\u001b[49m\u001b[43m(\u001b[49m\u001b[43mCommand\u001b[49m\u001b[38;5;241;43m.\u001b[39;49m\u001b[43mGET_ELEMENT_TEXT\u001b[49m\u001b[43m)\u001b[49m[\u001b[38;5;124m\"\u001b[39m\u001b[38;5;124mvalue\u001b[39m\u001b[38;5;124m\"\u001b[39m]\n",
      "File \u001b[0;32m~/Library/Python/3.9/lib/python/site-packages/selenium/webdriver/remote/webelement.py:395\u001b[0m, in \u001b[0;36mWebElement._execute\u001b[0;34m(self, command, params)\u001b[0m\n\u001b[1;32m    393\u001b[0m     params \u001b[38;5;241m=\u001b[39m {}\n\u001b[1;32m    394\u001b[0m params[\u001b[38;5;124m\"\u001b[39m\u001b[38;5;124mid\u001b[39m\u001b[38;5;124m\"\u001b[39m] \u001b[38;5;241m=\u001b[39m \u001b[38;5;28mself\u001b[39m\u001b[38;5;241m.\u001b[39m_id\n\u001b[0;32m--> 395\u001b[0m \u001b[38;5;28;01mreturn\u001b[39;00m \u001b[38;5;28;43mself\u001b[39;49m\u001b[38;5;241;43m.\u001b[39;49m\u001b[43m_parent\u001b[49m\u001b[38;5;241;43m.\u001b[39;49m\u001b[43mexecute\u001b[49m\u001b[43m(\u001b[49m\u001b[43mcommand\u001b[49m\u001b[43m,\u001b[49m\u001b[43m \u001b[49m\u001b[43mparams\u001b[49m\u001b[43m)\u001b[49m\n",
      "File \u001b[0;32m~/Library/Python/3.9/lib/python/site-packages/selenium/webdriver/remote/webdriver.py:345\u001b[0m, in \u001b[0;36mWebDriver.execute\u001b[0;34m(self, driver_command, params)\u001b[0m\n\u001b[1;32m    343\u001b[0m response \u001b[38;5;241m=\u001b[39m \u001b[38;5;28mself\u001b[39m\u001b[38;5;241m.\u001b[39mcommand_executor\u001b[38;5;241m.\u001b[39mexecute(driver_command, params)\n\u001b[1;32m    344\u001b[0m \u001b[38;5;28;01mif\u001b[39;00m response:\n\u001b[0;32m--> 345\u001b[0m     \u001b[38;5;28;43mself\u001b[39;49m\u001b[38;5;241;43m.\u001b[39;49m\u001b[43merror_handler\u001b[49m\u001b[38;5;241;43m.\u001b[39;49m\u001b[43mcheck_response\u001b[49m\u001b[43m(\u001b[49m\u001b[43mresponse\u001b[49m\u001b[43m)\u001b[49m\n\u001b[1;32m    346\u001b[0m     response[\u001b[38;5;124m\"\u001b[39m\u001b[38;5;124mvalue\u001b[39m\u001b[38;5;124m\"\u001b[39m] \u001b[38;5;241m=\u001b[39m \u001b[38;5;28mself\u001b[39m\u001b[38;5;241m.\u001b[39m_unwrap_value(response\u001b[38;5;241m.\u001b[39mget(\u001b[38;5;124m\"\u001b[39m\u001b[38;5;124mvalue\u001b[39m\u001b[38;5;124m\"\u001b[39m, \u001b[38;5;28;01mNone\u001b[39;00m))\n\u001b[1;32m    347\u001b[0m     \u001b[38;5;28;01mreturn\u001b[39;00m response\n",
      "File \u001b[0;32m~/Library/Python/3.9/lib/python/site-packages/selenium/webdriver/remote/errorhandler.py:229\u001b[0m, in \u001b[0;36mErrorHandler.check_response\u001b[0;34m(self, response)\u001b[0m\n\u001b[1;32m    227\u001b[0m         alert_text \u001b[38;5;241m=\u001b[39m value[\u001b[38;5;124m\"\u001b[39m\u001b[38;5;124malert\u001b[39m\u001b[38;5;124m\"\u001b[39m]\u001b[38;5;241m.\u001b[39mget(\u001b[38;5;124m\"\u001b[39m\u001b[38;5;124mtext\u001b[39m\u001b[38;5;124m\"\u001b[39m)\n\u001b[1;32m    228\u001b[0m     \u001b[38;5;28;01mraise\u001b[39;00m exception_class(message, screen, stacktrace, alert_text)  \u001b[38;5;66;03m# type: ignore[call-arg]  # mypy is not smart enough here\u001b[39;00m\n\u001b[0;32m--> 229\u001b[0m \u001b[38;5;28;01mraise\u001b[39;00m exception_class(message, screen, stacktrace)\n",
      "\u001b[0;31mWebDriverException\u001b[0m: Message: disconnected: not connected to DevTools\n  (failed to check if window was closed: disconnected: not connected to DevTools)\n  (Session info: chrome=115.0.5790.170)\nStacktrace:\n0   chromedriver                        0x0000000104ae6a6c chromedriver + 4303468\n1   chromedriver                        0x0000000104adf198 chromedriver + 4272536\n2   chromedriver                        0x0000000104713594 chromedriver + 292244\n3   chromedriver                        0x00000001046f9948 chromedriver + 186696\n4   chromedriver                        0x00000001046f9850 chromedriver + 186448\n5   chromedriver                        0x0000000104788ed4 chromedriver + 773844\n6   chromedriver                        0x0000000104744b40 chromedriver + 494400\n7   chromedriver                        0x0000000104745988 chromedriver + 498056\n8   chromedriver                        0x0000000104aa7924 chromedriver + 4045092\n9   chromedriver                        0x0000000104aabe68 chromedriver + 4062824\n10  chromedriver                        0x0000000104ab2088 chromedriver + 4087944\n11  chromedriver                        0x0000000104aac96c chromedriver + 4065644\n12  chromedriver                        0x0000000104a84e64 chromedriver + 3903076\n13  chromedriver                        0x0000000104ac855c chromedriver + 4179292\n14  chromedriver                        0x0000000104ac86b4 chromedriver + 4179636\n15  chromedriver                        0x0000000104ad8978 chromedriver + 4245880\n16  libsystem_pthread.dylib             0x000000019c28906c _pthread_start + 148\n17  libsystem_pthread.dylib             0x000000019c283e2c thread_start + 8\n"
     ]
    }
   ],
   "source": [
    "l = []\n",
    "max_page = 0\n",
    "pages_df = pd.DataFrame({'break_name': [], 'url': [], 'page_number': []})\n",
    "df = pd.DataFrame({'break_name': [], 'break_url': [], 'time': [], 'rating': []})\n",
    "\n",
    "driver = webdriver.Chrome()\n",
    "driver.get('https://www.surf-forecast.com/breaks/')\n",
    "breaks = driver.find_elements(By.CLASS_NAME, 'list_table')\n",
    "\n",
    "for i in driver.find_element(By.CLASS_NAME, 'pagination').find_elements(By.TAG_NAME, 'a'):\n",
    "    try:\n",
    "        cur_page = int(i.text)\n",
    "        if cur_page > max_page:\n",
    "            max_page = cur_page\n",
    "    except:\n",
    "        continue\n",
    "\n",
    "        \n",
    "        import math\n",
    "\n",
    "if max_page > pages_df['page_number'].max() or math.isnan(pages_df['page_number'].max()):\n",
    "    for i in range(1, max_page + 1):\n",
    "        driver2 = webdriver.Chrome()\n",
    "        driver2.get('https://www.surf-forecast.com/breaks?page={}'.format(i))\n",
    "        breaks2 = driver.find_elements(By.CLASS_NAME, 'list_table')\n",
    "\n",
    "        driver2.find_elements(By.CLASS_NAME, 'pagination') \n",
    "\n",
    "        for i in breaks[0].find_elements(By.TAG_NAME, 'a'):\n",
    "            l.append((i.get_attribute('href'), i.text))\n",
    "            pages_df = pd.concat([pages_df, pd.DataFrame({\n",
    "                'break_name': [i.text]\n",
    "                , 'url': [i.get_attribute('href')]\n",
    "                , 'page_number': i\n",
    "            })], ignore_index=True)\n",
    "        \n",
    "for break_url, break_name in l:\n",
    "    if break_url\n",
    "    \n",
    "    driver3 = webdriver.Chrome()\n",
    "    driver3.get(break_url + '/forecasts/latest')\n",
    "\n",
    "    ratings = driver3.find_elements(By.CLASS_NAME, 'star-rating__rating')\n",
    "    times = driver3.find_elements(By.CLASS_NAME, 'forecast-table-time__cell')\n",
    "\n",
    "    for time, rating in zip(times, ratings):\n",
    "        df = pd.concat([df, pd.DataFrame({\n",
    "            'break_name': [break_name]\n",
    "            , 'break_url': [break_url]\n",
    "            , 'time': [time.text]\n",
    "            , 'rating': [rating.text]\n",
    "        })], ignore_index=True)"
   ]
  },
  {
   "cell_type": "code",
   "execution_count": 180,
   "id": "d23d37d2",
   "metadata": {},
   "outputs": [
    {
     "name": "stdout",
     "output_type": "stream",
     "text": [
      "break_name                                  10th Street (Avalon)\n",
      "url            https://www.surf-forecast.com/breaks/Tenth-Str...\n",
      "page_number                                                   27\n",
      "Name: 0, dtype: object\n"
     ]
    }
   ],
   "source": [
    "for index, row in pages_df.iterrows():\n",
    "    if row['break_name']\n",
    "    break"
   ]
  },
  {
   "cell_type": "code",
   "execution_count": null,
   "id": "d6b34417",
   "metadata": {},
   "outputs": [],
   "source": []
  }
 ],
 "metadata": {
  "kernelspec": {
   "display_name": "env",
   "language": "python",
   "name": "env"
  },
  "language_info": {
   "codemirror_mode": {
    "name": "ipython",
    "version": 3
   },
   "file_extension": ".py",
   "mimetype": "text/x-python",
   "name": "python",
   "nbconvert_exporter": "python",
   "pygments_lexer": "ipython3",
   "version": "3.9.6"
  }
 },
 "nbformat": 4,
 "nbformat_minor": 5
}
