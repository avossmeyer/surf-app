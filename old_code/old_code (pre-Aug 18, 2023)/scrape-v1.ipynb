{
 "cells": [
  {
   "cell_type": "code",
   "execution_count": 1,
   "id": "4fd71f55",
   "metadata": {},
   "outputs": [],
   "source": [
    "# from selenium.webdriver.support.ui import WebDriverWait\n",
    "# from selenium.common.exceptions import TimeoutException\n",
    "# xpath = '/html/body/div[2]/div/div[2]/div[2]/div[2]/div[3]/div[5]/div[2]/div/' +\\\n",
    "#     'div[3]/div/table/tbody/tr[3]/td[6]/div/div'\n",
    "# driver.get(\"https://www.surf-forecast.com/breaks/Trial-Harbour/forecasts/latest/six_day\")\n",
    "# element = driver.find_element(By.XPATH, sel_class)"
   ]
  },
  {
   "cell_type": "code",
   "execution_count": 13,
   "id": "8e013a9a",
   "metadata": {},
   "outputs": [],
   "source": [
    "import pandas as pd\n",
    "from selenium import webdriver\n",
    "from selenium.webdriver.common.by import By"
   ]
  },
  {
   "cell_type": "code",
   "execution_count": 65,
   "id": "5d6f44c4",
   "metadata": {},
   "outputs": [],
   "source": [
    "driver = webdriver.Chrome()\n",
    "driver.get(\"https://www.surf-forecast.com/breaks/Trial-Harbour/forecasts/latest\")\n",
    "\n",
    "rating = driver.find_element(By.CLASS_NAME, 'forecast-table-rating')\n",
    "time = driver.find_element(By.CLASS_NAME, 'forecast-table-time')\n",
    "table = driver.find_element(By.CLASS_NAME, 'forecast-table__basic')\n"
   ]
  },
  {
   "cell_type": "code",
   "execution_count": 123,
   "id": "f1d3b48b",
   "metadata": {},
   "outputs": [],
   "source": [
    "df.to_csv('~/Desktop/break_urls.csv')"
   ]
  },
  {
   "cell_type": "code",
   "execution_count": 133,
   "id": "bff8ec7b",
   "metadata": {},
   "outputs": [
    {
     "ename": "AttributeError",
     "evalue": "'DataFrame' object has no attribute 'append'",
     "output_type": "error",
     "traceback": [
      "\u001b[0;31m---------------------------------------------------------------------------\u001b[0m",
      "\u001b[0;31mAttributeError\u001b[0m                            Traceback (most recent call last)",
      "Cell \u001b[0;32mIn[133], line 27\u001b[0m\n\u001b[1;32m     25\u001b[0m     \u001b[38;5;28;01mfor\u001b[39;00m i \u001b[38;5;129;01min\u001b[39;00m breaks[\u001b[38;5;241m0\u001b[39m]\u001b[38;5;241m.\u001b[39mfind_elements(By\u001b[38;5;241m.\u001b[39mTAG_NAME, \u001b[38;5;124m'\u001b[39m\u001b[38;5;124ma\u001b[39m\u001b[38;5;124m'\u001b[39m):\n\u001b[1;32m     26\u001b[0m         l\u001b[38;5;241m.\u001b[39mappend((i\u001b[38;5;241m.\u001b[39mget_attribute(\u001b[38;5;124m'\u001b[39m\u001b[38;5;124mhref\u001b[39m\u001b[38;5;124m'\u001b[39m), i\u001b[38;5;241m.\u001b[39mtext))\n\u001b[0;32m---> 27\u001b[0m         \u001b[43mpages_df\u001b[49m\u001b[38;5;241;43m.\u001b[39;49m\u001b[43mappend\u001b[49m({\u001b[38;5;124m'\u001b[39m\u001b[38;5;124mbreak_name\u001b[39m\u001b[38;5;124m'\u001b[39m: i\u001b[38;5;241m.\u001b[39mget_attribute(\u001b[38;5;124m'\u001b[39m\u001b[38;5;124mhref\u001b[39m\u001b[38;5;124m'\u001b[39m), \u001b[38;5;124m'\u001b[39m\u001b[38;5;124murl\u001b[39m\u001b[38;5;124m'\u001b[39m: i\u001b[38;5;241m.\u001b[39mtext}, ignore_index\u001b[38;5;241m=\u001b[39m\u001b[38;5;28;01mTrue\u001b[39;00m)\n\u001b[1;32m     28\u001b[0m     \u001b[38;5;28;01mbreak\u001b[39;00m\n\u001b[1;32m     30\u001b[0m \u001b[38;5;28;01mfor\u001b[39;00m break_name, break_url \u001b[38;5;129;01min\u001b[39;00m l:\n",
      "File \u001b[0;32m~/Library/Python/3.9/lib/python/site-packages/pandas/core/generic.py:5989\u001b[0m, in \u001b[0;36mNDFrame.__getattr__\u001b[0;34m(self, name)\u001b[0m\n\u001b[1;32m   5982\u001b[0m \u001b[38;5;28;01mif\u001b[39;00m (\n\u001b[1;32m   5983\u001b[0m     name \u001b[38;5;129;01mnot\u001b[39;00m \u001b[38;5;129;01min\u001b[39;00m \u001b[38;5;28mself\u001b[39m\u001b[38;5;241m.\u001b[39m_internal_names_set\n\u001b[1;32m   5984\u001b[0m     \u001b[38;5;129;01mand\u001b[39;00m name \u001b[38;5;129;01mnot\u001b[39;00m \u001b[38;5;129;01min\u001b[39;00m \u001b[38;5;28mself\u001b[39m\u001b[38;5;241m.\u001b[39m_metadata\n\u001b[1;32m   5985\u001b[0m     \u001b[38;5;129;01mand\u001b[39;00m name \u001b[38;5;129;01mnot\u001b[39;00m \u001b[38;5;129;01min\u001b[39;00m \u001b[38;5;28mself\u001b[39m\u001b[38;5;241m.\u001b[39m_accessors\n\u001b[1;32m   5986\u001b[0m     \u001b[38;5;129;01mand\u001b[39;00m \u001b[38;5;28mself\u001b[39m\u001b[38;5;241m.\u001b[39m_info_axis\u001b[38;5;241m.\u001b[39m_can_hold_identifiers_and_holds_name(name)\n\u001b[1;32m   5987\u001b[0m ):\n\u001b[1;32m   5988\u001b[0m     \u001b[38;5;28;01mreturn\u001b[39;00m \u001b[38;5;28mself\u001b[39m[name]\n\u001b[0;32m-> 5989\u001b[0m \u001b[38;5;28;01mreturn\u001b[39;00m \u001b[38;5;28;43mobject\u001b[39;49m\u001b[38;5;241;43m.\u001b[39;49m\u001b[38;5;21;43m__getattribute__\u001b[39;49m\u001b[43m(\u001b[49m\u001b[38;5;28;43mself\u001b[39;49m\u001b[43m,\u001b[49m\u001b[43m \u001b[49m\u001b[43mname\u001b[49m\u001b[43m)\u001b[49m\n",
      "\u001b[0;31mAttributeError\u001b[0m: 'DataFrame' object has no attribute 'append'"
     ]
    }
   ],
   "source": [
    "l = []\n",
    "max_page = 0\n",
    "pages_df = pd.DataFrame({'break_name': [], 'url': []})\n",
    "df = pd.DataFrame({'break_name': [], 'break_url': [], 'time': [], 'rating': []})\n",
    "\n",
    "driver = webdriver.Chrome()\n",
    "driver.get('https://www.surf-forecast.com/breaks/')\n",
    "breaks = driver.find_elements(By.CLASS_NAME, 'list_table')\n",
    "\n",
    "for i in driver.find_element(By.CLASS_NAME, 'pagination').find_elements(By.TAG_NAME, 'a'):\n",
    "    try:\n",
    "        cur_page = int(i.text)\n",
    "        if cur_page > max_page:\n",
    "            max_page = cur_page\n",
    "    except:\n",
    "        continue\n",
    "\n",
    "for i in range(1, max_page + 1):\n",
    "    driver2 = webdriver.Chrome()\n",
    "    driver2.get('https://www.surf-forecast.com/breaks?page={}'.format(i))\n",
    "    breaks2 = driver.find_elements(By.CLASS_NAME, 'list_table')\n",
    "\n",
    "    driver2.find_elements(By.CLASS_NAME, 'pagination') \n",
    "\n",
    "    for i in breaks[0].find_elements(By.TAG_NAME, 'a'):\n",
    "        l.append((i.get_attribute('href'), i.text))\n",
    "        pages_df.append({'break_name': i.get_attribute('href'), 'url': i.text}, ignore_index=True)\n",
    "    break\n",
    "        \n",
    "for break_name, break_url in l:\n",
    "    driver3 = webdriver.Chrome()\n",
    "    driver3.get(break_url)\n",
    "\n",
    "    ratings = driver3.find_elements(By.CLASS_NAME, 'star-rating__rating')\n",
    "    times = driver3.find_elements(By.CLASS_NAME, 'forecast-table-time__cell')\n",
    "    # class=\"forecast-table__cell forecast-table-time__cell is-day-odd\"\n",
    "\n",
    "    for time, rating in zip(times, ratings):\n",
    "        print(time.text, rating.text)\n",
    "        df.append({\n",
    "            'break_name': break_name\n",
    "            , 'break_url': break_url\n",
    "            , 'time': i.get_attribute('href')\n",
    "            , 'rating': i.text\n",
    "        }, ignore_index=True)\n",
    "    break"
   ]
  },
  {
   "cell_type": "code",
   "execution_count": 131,
   "id": "04f3c15b",
   "metadata": {},
   "outputs": [
    {
     "name": "stdout",
     "output_type": "stream",
     "text": [
      "1 AM 8\n"
     ]
    }
   ],
   "source": [
    "driver4 = webdriver.Chrome()\n",
    "driver4.get('https://www.surf-forecast.com/breaks/Trial-Harbour/forecasts/latest')\n",
    "# breaks = driver4.find_elements(By.CLASS_NAME, 'list_table')\n",
    "driver4.find_elements(By.CLASS_NAME, 'pagination') \n",
    "\n",
    "df = pd.DataFrame({'break': [], 'break_url': [], 'time': [], 'rating': []})\n",
    "\n",
    "\n",
    "\n",
    "ratings = driver4.find_elements(By.CLASS_NAME, 'star-rating__rating')\n",
    "times = driver4.find_elements(By.CLASS_NAME, 'forecast-table-time__cell')\n",
    "# class=\"forecast-table__cell forecast-table-time__cell is-day-odd\"\n",
    "\n",
    "for time, rating in zip(times, ratings):\n",
    "    print(time.text, rating.text)\n",
    "    df.append({\n",
    "        'time': i.get_attribute('href')\n",
    "        , 'time': i.get_attribute('href')\n",
    "        , 'time': i.get_attribute('href')\n",
    "        , 'rating': i.text\n",
    "    }, ignore_index=True)\n",
    "    break"
   ]
  },
  {
   "cell_type": "code",
   "execution_count": null,
   "id": "e8818f78",
   "metadata": {},
   "outputs": [],
   "source": []
  }
 ],
 "metadata": {
  "kernelspec": {
   "display_name": "env",
   "language": "python",
   "name": "env"
  },
  "language_info": {
   "codemirror_mode": {
    "name": "ipython",
    "version": 3
   },
   "file_extension": ".py",
   "mimetype": "text/x-python",
   "name": "python",
   "nbconvert_exporter": "python",
   "pygments_lexer": "ipython3",
   "version": "3.9.6"
  }
 },
 "nbformat": 4,
 "nbformat_minor": 5
}
