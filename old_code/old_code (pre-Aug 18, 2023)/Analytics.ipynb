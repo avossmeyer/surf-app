{
 "cells": [
  {
   "cell_type": "code",
   "execution_count": 109,
   "id": "27b4d1e3",
   "metadata": {},
   "outputs": [],
   "source": [
    "import pandas as pd\n",
    "from selenium import webdriver\n",
    "from selenium.webdriver.common.by import By\n",
    "import math\n",
    "import multiprocess as mp\n",
    "import threading\n"
   ]
  },
  {
   "cell_type": "code",
   "execution_count": 110,
   "id": "e67a9afc",
   "metadata": {},
   "outputs": [
    {
     "data": {
      "text/plain": [
       "(240, 11)"
      ]
     },
     "execution_count": 110,
     "metadata": {},
     "output_type": "execute_result"
    }
   ],
   "source": [
    "# df = pd.read_csv('breaks.csv')\n",
    "df = pd.read_csv('breaks_temp.csv')\n",
    "pages = pd.read_csv('pages.csv')\n",
    "df.shape\n",
    "\n",
    "# x = df[df['Unnamed: 0'].str.len() > 7]\n",
    "# cols = ['break_name', 'break_url', 'time', 'rating',0,1]\n",
    "# x.columns = cols\n",
    "# x = x.drop([0,1], axis=1)\n",
    "# df = pd.concat([x, df[['break_name', 'break_url', 'time', 'rating']].dropna()])\n",
    "# df['rating'] = pd.to_numeric(df['rating'], errors='coerce')\n",
    "# df.reset_index(drop=True).to_csv('breaks.csv', index=False)"
   ]
  },
  {
   "cell_type": "code",
   "execution_count": 97,
   "id": "8058a74f",
   "metadata": {},
   "outputs": [
    {
     "data": {
      "text/plain": [
       "0.0404341349223239"
      ]
     },
     "execution_count": 97,
     "metadata": {},
     "output_type": "execute_result"
    }
   ],
   "source": [
    "df[df['rating'] > 5].break_name.unique().shape[0] / df.break_name.unique().shape[0]"
   ]
  },
  {
   "cell_type": "code",
   "execution_count": 98,
   "id": "ea98a854",
   "metadata": {},
   "outputs": [
    {
     "data": {
      "text/html": [
       "<div>\n",
       "<style scoped>\n",
       "    .dataframe tbody tr th:only-of-type {\n",
       "        vertical-align: middle;\n",
       "    }\n",
       "\n",
       "    .dataframe tbody tr th {\n",
       "        vertical-align: top;\n",
       "    }\n",
       "\n",
       "    .dataframe thead th {\n",
       "        text-align: right;\n",
       "    }\n",
       "</style>\n",
       "<table border=\"1\" class=\"dataframe\">\n",
       "  <thead>\n",
       "    <tr style=\"text-align: right;\">\n",
       "      <th></th>\n",
       "      <th>break_name</th>\n",
       "    </tr>\n",
       "    <tr>\n",
       "      <th>rating</th>\n",
       "      <th></th>\n",
       "    </tr>\n",
       "  </thead>\n",
       "  <tbody>\n",
       "    <tr>\n",
       "      <th>0.0</th>\n",
       "      <td>760</td>\n",
       "    </tr>\n",
       "    <tr>\n",
       "      <th>1.0</th>\n",
       "      <td>231</td>\n",
       "    </tr>\n",
       "    <tr>\n",
       "      <th>2.0</th>\n",
       "      <td>1183</td>\n",
       "    </tr>\n",
       "    <tr>\n",
       "      <th>3.0</th>\n",
       "      <td>895</td>\n",
       "    </tr>\n",
       "    <tr>\n",
       "      <th>4.0</th>\n",
       "      <td>697</td>\n",
       "    </tr>\n",
       "    <tr>\n",
       "      <th>5.0</th>\n",
       "      <td>743</td>\n",
       "    </tr>\n",
       "    <tr>\n",
       "      <th>6.0</th>\n",
       "      <td>129</td>\n",
       "    </tr>\n",
       "    <tr>\n",
       "      <th>7.0</th>\n",
       "      <td>20</td>\n",
       "    </tr>\n",
       "    <tr>\n",
       "      <th>8.0</th>\n",
       "      <td>19</td>\n",
       "    </tr>\n",
       "    <tr>\n",
       "      <th>9.0</th>\n",
       "      <td>5</td>\n",
       "    </tr>\n",
       "    <tr>\n",
       "      <th>10.0</th>\n",
       "      <td>17</td>\n",
       "    </tr>\n",
       "  </tbody>\n",
       "</table>\n",
       "</div>"
      ],
      "text/plain": [
       "        break_name\n",
       "rating            \n",
       "0.0            760\n",
       "1.0            231\n",
       "2.0           1183\n",
       "3.0            895\n",
       "4.0            697\n",
       "5.0            743\n",
       "6.0            129\n",
       "7.0             20\n",
       "8.0             19\n",
       "9.0              5\n",
       "10.0            17"
      ]
     },
     "execution_count": 98,
     "metadata": {},
     "output_type": "execute_result"
    }
   ],
   "source": [
    "df.groupby('break_name').agg({\n",
    "    'rating':'max'\n",
    "}).reset_index().groupby('rating').count()"
   ]
  },
  {
   "cell_type": "code",
   "execution_count": 99,
   "id": "01263cbf",
   "metadata": {},
   "outputs": [
    {
     "data": {
      "text/html": [
       "<div>\n",
       "<style scoped>\n",
       "    .dataframe tbody tr th:only-of-type {\n",
       "        vertical-align: middle;\n",
       "    }\n",
       "\n",
       "    .dataframe tbody tr th {\n",
       "        vertical-align: top;\n",
       "    }\n",
       "\n",
       "    .dataframe thead th {\n",
       "        text-align: right;\n",
       "    }\n",
       "</style>\n",
       "<table border=\"1\" class=\"dataframe\">\n",
       "  <thead>\n",
       "    <tr style=\"text-align: right;\">\n",
       "      <th></th>\n",
       "      <th>break_name</th>\n",
       "    </tr>\n",
       "    <tr>\n",
       "      <th>rating</th>\n",
       "      <th></th>\n",
       "    </tr>\n",
       "  </thead>\n",
       "  <tbody>\n",
       "    <tr>\n",
       "      <th>0.0</th>\n",
       "      <td>0.161737</td>\n",
       "    </tr>\n",
       "    <tr>\n",
       "      <th>1.0</th>\n",
       "      <td>0.049159</td>\n",
       "    </tr>\n",
       "    <tr>\n",
       "      <th>2.0</th>\n",
       "      <td>0.251756</td>\n",
       "    </tr>\n",
       "    <tr>\n",
       "      <th>3.0</th>\n",
       "      <td>0.190466</td>\n",
       "    </tr>\n",
       "    <tr>\n",
       "      <th>4.0</th>\n",
       "      <td>0.148329</td>\n",
       "    </tr>\n",
       "    <tr>\n",
       "      <th>5.0</th>\n",
       "      <td>0.158119</td>\n",
       "    </tr>\n",
       "    <tr>\n",
       "      <th>6.0</th>\n",
       "      <td>0.027453</td>\n",
       "    </tr>\n",
       "    <tr>\n",
       "      <th>7.0</th>\n",
       "      <td>0.004256</td>\n",
       "    </tr>\n",
       "    <tr>\n",
       "      <th>8.0</th>\n",
       "      <td>0.004043</td>\n",
       "    </tr>\n",
       "    <tr>\n",
       "      <th>9.0</th>\n",
       "      <td>0.001064</td>\n",
       "    </tr>\n",
       "    <tr>\n",
       "      <th>10.0</th>\n",
       "      <td>0.003618</td>\n",
       "    </tr>\n",
       "  </tbody>\n",
       "</table>\n",
       "</div>"
      ],
      "text/plain": [
       "        break_name\n",
       "rating            \n",
       "0.0       0.161737\n",
       "1.0       0.049159\n",
       "2.0       0.251756\n",
       "3.0       0.190466\n",
       "4.0       0.148329\n",
       "5.0       0.158119\n",
       "6.0       0.027453\n",
       "7.0       0.004256\n",
       "8.0       0.004043\n",
       "9.0       0.001064\n",
       "10.0      0.003618"
      ]
     },
     "execution_count": 99,
     "metadata": {},
     "output_type": "execute_result"
    }
   ],
   "source": [
    "df.groupby('break_name').agg({\n",
    "    'rating':'max'\n",
    "}).reset_index().groupby('rating').count()/ df.break_name.unique().shape[0]"
   ]
  },
  {
   "cell_type": "code",
   "execution_count": 123,
   "id": "1251cd92",
   "metadata": {},
   "outputs": [
    {
     "name": "stdout",
     "output_type": "stream",
     "text": [
      "-27.07 -109.33\n"
     ]
    }
   ],
   "source": [
    "ll = df.loc[df['rating'] > 2, ['latitude', 'longitude']].drop_duplicates()\n",
    "for index, row in ll.iterrows():\n",
    "    print(row['latitude'], row['longitude'])"
   ]
  },
  {
   "cell_type": "code",
   "execution_count": null,
   "id": "8ca24dd0",
   "metadata": {},
   "outputs": [],
   "source": []
  }
 ],
 "metadata": {
  "kernelspec": {
   "display_name": "env",
   "language": "python",
   "name": "env"
  },
  "language_info": {
   "codemirror_mode": {
    "name": "ipython",
    "version": 3
   },
   "file_extension": ".py",
   "mimetype": "text/x-python",
   "name": "python",
   "nbconvert_exporter": "python",
   "pygments_lexer": "ipython3",
   "version": "3.9.6"
  }
 },
 "nbformat": 4,
 "nbformat_minor": 5
}
